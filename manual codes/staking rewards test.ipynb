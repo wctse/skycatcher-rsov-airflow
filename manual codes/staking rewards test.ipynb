{
 "cells": [
  {
   "cell_type": "code",
   "execution_count": 6,
   "metadata": {},
   "outputs": [
    {
     "name": "stdout",
     "output_type": "stream",
     "text": [
      "{\n",
      "  \"data\": {\n",
      "    \"assets\": [\n",
      "      {\n",
      "        \"metrics\": [\n",
      "          {\n",
      "            \"defaultValue\": 494832716.881356,\n",
      "            \"createdAt\": \"2024-01-16T22:17:35.828801Z\"\n",
      "          },\n",
      "          {\n",
      "            \"defaultValue\": 495147141.611401,\n",
      "            \"createdAt\": \"2024-01-17T22:17:42.425092Z\"\n",
      "          },\n",
      "          {\n",
      "            \"defaultValue\": 495449972.0191,\n",
      "            \"createdAt\": \"2024-01-18T22:16:36.288059Z\"\n",
      "          },\n",
      "          {\n",
      "            \"defaultValue\": 495724341.739224,\n",
      "            \"createdAt\": \"2024-01-19T22:15:12.924663Z\"\n",
      "          }\n",
      "        ]\n",
      "      }\n",
      "    ]\n",
      "  }\n",
      "}\n"
     ]
    }
   ],
   "source": [
    "import requests\n",
    "import json\n",
    "\n",
    "API_ENDPOINT = \"https://api.stakingrewards.com/public/query\"\n",
    "API_KEY = \"14a0c87d-0406-44f0-9083-b23cec180eab\"  # Replace with your actual API key\n",
    "\n",
    "headers = {\n",
    "    \"Content-Type\": \"application/json\",\n",
    "    \"X-API-KEY\": API_KEY,\n",
    "}\n",
    "\n",
    "query = \"\"\"\n",
    "{\n",
    "  assets(where: {slugs: [\"celestia\"]}, limit: 1) {\n",
    "    metrics(\n",
    "      where: {\n",
    "        metricKeys: [\"staked_tokens\"],\n",
    "        createdAt_gt: \"2024-01-13T23:59:59Z\",\n",
    "        createdAt_lt: \"2024-01-20T00:00:00Z\"\n",
    "      },\n",
    "      limit: 500,\n",
    "      interval: day,\n",
    "      order: {createdAt: asc}\n",
    "    ) {\n",
    "      defaultValue\n",
    "      createdAt\n",
    "    }\n",
    "  }\n",
    "}\n",
    "\"\"\"\n",
    "\n",
    "payload = {\"query\": query}\n",
    "\n",
    "response = requests.post(API_ENDPOINT, headers=headers, json=payload)\n",
    "\n",
    "if response.status_code == 200:\n",
    "    data = response.json()\n",
    "    print(json.dumps(data, indent=2))\n",
    "else:\n",
    "    print(f\"Request failed with status code {response.status_code}: {response.text}\")"
   ]
  }
 ],
 "metadata": {
  "kernelspec": {
   "display_name": "Python 3",
   "language": "python",
   "name": "python3"
  },
  "language_info": {
   "codemirror_mode": {
    "name": "ipython",
    "version": 3
   },
   "file_extension": ".py",
   "mimetype": "text/x-python",
   "name": "python",
   "nbconvert_exporter": "python",
   "pygments_lexer": "ipython3",
   "version": "3.13.2"
  }
 },
 "nbformat": 4,
 "nbformat_minor": 2
}
