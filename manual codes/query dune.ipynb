{
 "cells": [
  {
   "cell_type": "code",
   "execution_count": 1,
   "id": "a0f62bb8",
   "metadata": {},
   "outputs": [
    {
     "name": "stderr",
     "output_type": "stream",
     "text": [
      "2025-06-24 17:31:17,205 ERROR dune_client.models Can't build ResultsResponse from {'error': 'not found: Query not found or private'} due to KeyError: 'execution_id'\n"
     ]
    },
    {
     "ename": "DuneError",
     "evalue": "Can't build ResultsResponse from {'error': 'not found: Query not found or private'}",
     "output_type": "error",
     "traceback": [
      "\u001b[1;31m---------------------------------------------------------------------------\u001b[0m",
      "\u001b[1;31mKeyError\u001b[0m                                  Traceback (most recent call last)",
      "File \u001b[1;32mc:\\Users\\Chak\\AppData\\Local\\Programs\\Python\\Python313\\Lib\\site-packages\\dune_client\\api\\extensions.py:208\u001b[0m, in \u001b[0;36mExtendedAPI.get_latest_result\u001b[1;34m(self, query, max_age_hours, batch_size, columns, sample_count, filters, sort_by)\u001b[0m\n\u001b[0;32m    207\u001b[0m     batch_size \u001b[38;5;241m=\u001b[39m MAX_NUM_ROWS_PER_BATCH\n\u001b[1;32m--> 208\u001b[0m metadata \u001b[38;5;241m=\u001b[39m \u001b[43mResultsResponse\u001b[49m\u001b[38;5;241;43m.\u001b[39;49m\u001b[43mfrom_dict\u001b[49m\u001b[43m(\u001b[49m\u001b[43mresponse_json\u001b[49m\u001b[43m)\u001b[49m\n\u001b[0;32m    209\u001b[0m last_run \u001b[38;5;241m=\u001b[39m metadata\u001b[38;5;241m.\u001b[39mtimes\u001b[38;5;241m.\u001b[39mexecution_ended_at\n",
      "File \u001b[1;32mc:\\Users\\Chak\\AppData\\Local\\Programs\\Python\\Python313\\Lib\\site-packages\\dune_client\\models.py:317\u001b[0m, in \u001b[0;36mResultsResponse.from_dict\u001b[1;34m(cls, data)\u001b[0m\n\u001b[0;32m    316\u001b[0m \u001b[38;5;250m\u001b[39m\u001b[38;5;124;03m\"\"\"Constructor from dictionary. See unit test for sample input.\"\"\"\u001b[39;00m\n\u001b[1;32m--> 317\u001b[0m \u001b[38;5;28;01massert\u001b[39;00m \u001b[38;5;28misinstance\u001b[39m(\u001b[43mdata\u001b[49m\u001b[43m[\u001b[49m\u001b[38;5;124;43m\"\u001b[39;49m\u001b[38;5;124;43mexecution_id\u001b[39;49m\u001b[38;5;124;43m\"\u001b[39;49m\u001b[43m]\u001b[49m, \u001b[38;5;28mstr\u001b[39m)\n\u001b[0;32m    318\u001b[0m \u001b[38;5;28;01massert\u001b[39;00m \u001b[38;5;28misinstance\u001b[39m(data[\u001b[38;5;124m\"\u001b[39m\u001b[38;5;124mquery_id\u001b[39m\u001b[38;5;124m\"\u001b[39m], \u001b[38;5;28mint\u001b[39m)\n",
      "\u001b[1;31mKeyError\u001b[0m: 'execution_id'",
      "\nThe above exception was the direct cause of the following exception:\n",
      "\u001b[1;31mDuneError\u001b[0m                                 Traceback (most recent call last)",
      "Cell \u001b[1;32mIn[1], line 3\u001b[0m\n\u001b[0;32m      1\u001b[0m \u001b[38;5;28;01mfrom\u001b[39;00m\u001b[38;5;250m \u001b[39m\u001b[38;5;21;01mdune_client\u001b[39;00m\u001b[38;5;21;01m.\u001b[39;00m\u001b[38;5;21;01mclient\u001b[39;00m\u001b[38;5;250m \u001b[39m\u001b[38;5;28;01mimport\u001b[39;00m DuneClient\n\u001b[0;32m      2\u001b[0m dune \u001b[38;5;241m=\u001b[39m DuneClient(api_key\u001b[38;5;241m=\u001b[39m\u001b[38;5;124m\"\u001b[39m\u001b[38;5;124m49f2S16PS74iKVbLMGhzG5lR9WOzyS0v\u001b[39m\u001b[38;5;124m\"\u001b[39m)\n\u001b[1;32m----> 3\u001b[0m query_result \u001b[38;5;241m=\u001b[39m \u001b[43mdune\u001b[49m\u001b[38;5;241;43m.\u001b[39;49m\u001b[43mget_latest_result\u001b[49m\u001b[43m(\u001b[49m\u001b[38;5;241;43m4632140\u001b[39;49m\u001b[43m)\u001b[49m\n\u001b[0;32m      4\u001b[0m \u001b[38;5;28mprint\u001b[39m(query_result)\n",
      "File \u001b[1;32mc:\\Users\\Chak\\AppData\\Local\\Programs\\Python\\Python313\\Lib\\site-packages\\dune_client\\api\\extensions.py:239\u001b[0m, in \u001b[0;36mExtendedAPI.get_latest_result\u001b[1;34m(self, query, max_age_hours, batch_size, columns, sample_count, filters, sort_by)\u001b[0m\n\u001b[0;32m    237\u001b[0m     \u001b[38;5;28;01mreturn\u001b[39;00m results\n\u001b[0;32m    238\u001b[0m \u001b[38;5;28;01mexcept\u001b[39;00m \u001b[38;5;167;01mKeyError\u001b[39;00m \u001b[38;5;28;01mas\u001b[39;00m err:\n\u001b[1;32m--> 239\u001b[0m     \u001b[38;5;28;01mraise\u001b[39;00m DuneError(response_json, \u001b[38;5;124m\"\u001b[39m\u001b[38;5;124mResultsResponse\u001b[39m\u001b[38;5;124m\"\u001b[39m, err) \u001b[38;5;28;01mfrom\u001b[39;00m\u001b[38;5;250m \u001b[39m\u001b[38;5;21;01merr\u001b[39;00m\n",
      "\u001b[1;31mDuneError\u001b[0m: Can't build ResultsResponse from {'error': 'not found: Query not found or private'}"
     ]
    }
   ],
   "source": [
    "from dune_client.client import DuneClient\n",
    "dune = DuneClient(api_key=\"49f2S16PS74iKVbLMGhzG5lR9WOzyS0v\")\n",
    "query_result = dune.get_latest_result(4632140)\n",
    "print(query_result)"
   ]
  }
 ],
 "metadata": {
  "kernelspec": {
   "display_name": "Python 3",
   "language": "python",
   "name": "python3"
  },
  "language_info": {
   "codemirror_mode": {
    "name": "ipython",
    "version": 3
   },
   "file_extension": ".py",
   "mimetype": "text/x-python",
   "name": "python",
   "nbconvert_exporter": "python",
   "pygments_lexer": "ipython3",
   "version": "3.13.2"
  }
 },
 "nbformat": 4,
 "nbformat_minor": 5
}
