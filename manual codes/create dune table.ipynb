{
 "cells": [
  {
   "cell_type": "code",
   "execution_count": 1,
   "metadata": {},
   "outputs": [],
   "source": [
    "from dune_client.client import DuneClient\n",
    "dune = DuneClient(api_key=\"49f2S16PS74iKVbLMGhzG5lR9WOzyS0v\")\n",
    "\n",
    "chains = [\n",
    "    # 'aptos',\n",
    "    # 'avalanche',\n",
    "    # 'binance',\n",
    "    # 'bittensor',\n",
    "    # 'celestia',\n",
    "    # 'ethereum',\n",
    "    # 'hyperliquid',\n",
    "    # 'near',\n",
    "    # 'optimism',\n",
    "    # 'polygon',\n",
    "    # 'sui',\n",
    "    # 'solana',\n",
    "    # 'sei',\n",
    "    # 'sonic',\n",
    "    # 'ton',\n",
    "    'zora'\n",
    "]"
   ]
  },
  {
   "cell_type": "code",
   "execution_count": 2,
   "metadata": {},
   "outputs": [
    {
     "name": "stderr",
     "output_type": "stream",
     "text": [
      "2025-07-29 14:00:20,877 ERROR dune_client.models Can't build CreateTableResult from {'namespace': 'sc_research', 'table_name': 'zora_deposit_value', 'full_name': 'dune.sc_research.zora_deposit_value', 'example_query': 'select * from dune.sc_research.zora_deposit_value limit 10', 'message': 'Table created successfully'} due to KeyError: 'already_existed'\n"
     ]
    },
    {
     "name": "stdout",
     "output_type": "stream",
     "text": [
      "Can't build CreateTableResult from {'namespace': 'sc_research', 'table_name': 'zora_deposit_value', 'full_name': 'dune.sc_research.zora_deposit_value', 'example_query': 'select * from dune.sc_research.zora_deposit_value limit 10', 'message': 'Table created successfully'}\n"
     ]
    }
   ],
   "source": [
    "for chain in chains:\n",
    "    try:\n",
    "        table = dune.create_table(\n",
    "            namespace=\"sc_research\",\n",
    "            table_name=f\"{chain}_deposit_value\",\n",
    "            description=\"\",\n",
    "            schema= [\n",
    "                {\"name\": \"date\", \"type\": \"varchar\"},\n",
    "                {\"name\": \"chain\", \"type\": \"varchar\"},\n",
    "                {\"name\": \"tokens_usd\", \"type\": \"double\"},\n",
    "                {\"name\": \"estimated_tokens_usd\", \"type\": \"double\"},\n",
    "                {\"name\": \"total_deposit_value\", \"type\": \"double\"}\n",
    "            ],\n",
    "            is_private=False\n",
    "        )\n",
    "    except Exception as e:\n",
    "        print(e)\n",
    "        continue"
   ]
  },
  {
   "cell_type": "code",
   "execution_count": 2,
   "metadata": {},
   "outputs": [
    {
     "name": "stderr",
     "output_type": "stream",
     "text": [
      "2025-06-17 01:04:01,070 ERROR dune_client.models Can't build CreateTableResult from {'namespace': 'sc_research', 'table_name': 'hyperliquid_staking', 'full_name': 'dune.sc_research.hyperliquid_staking', 'example_query': 'select * from dune.sc_research.hyperliquid_staking limit 10', 'message': 'Table created successfully'} due to KeyError: 'already_existed'\n"
     ]
    },
    {
     "name": "stdout",
     "output_type": "stream",
     "text": [
      "Can't build CreateTableResult from {'namespace': 'sc_research', 'table_name': 'hyperliquid_staking', 'full_name': 'dune.sc_research.hyperliquid_staking', 'example_query': 'select * from dune.sc_research.hyperliquid_staking limit 10', 'message': 'Table created successfully'}\n"
     ]
    }
   ],
   "source": [
    "for chain in chains:\n",
    "    try:\n",
    "        table = dune.create_table(\n",
    "            namespace=\"sc_research\",\n",
    "            table_name=f\"{chain}_staking\",\n",
    "            description=\"\",\n",
    "            schema= [\n",
    "                {\"name\": \"date\", \"type\": \"varchar\"},\n",
    "                {\"name\": \"reward_rate\", \"type\": \"double\"},\n",
    "                {\"name\": \"real_reward_rate\", \"type\": \"double\"},\n",
    "                {\"name\": \"inflation_rate\", \"type\": \"double\"},\n",
    "                {\"name\": \"staked_tokens\", \"type\": \"double\"},\n",
    "                {\"name\": \"staking_ratio\", \"type\": \"double\"},\n",
    "                {\"name\": \"marketcap\", \"type\": \"double\"},\n",
    "                {\"name\": \"circulating_supply\", \"type\": \"double\"},\n",
    "                {\"name\": \"circulating_percentage\", \"type\": \"double\"}\n",
    "            ],\n",
    "            is_private=False\n",
    "        )\n",
    "    except Exception as e:\n",
    "        print(e)\n",
    "        continue"
   ]
  },
  {
   "cell_type": "code",
   "execution_count": null,
   "metadata": {},
   "outputs": [],
   "source": []
  }
 ],
 "metadata": {
  "kernelspec": {
   "display_name": "Python 3",
   "language": "python",
   "name": "python3"
  },
  "language_info": {
   "codemirror_mode": {
    "name": "ipython",
    "version": 3
   },
   "file_extension": ".py",
   "mimetype": "text/x-python",
   "name": "python",
   "nbconvert_exporter": "python",
   "pygments_lexer": "ipython3",
   "version": "3.13.2"
  }
 },
 "nbformat": 4,
 "nbformat_minor": 2
}
